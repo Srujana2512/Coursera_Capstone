{
 "cells": [
  {
   "cell_type": "markdown",
   "metadata": {},
   "source": [
    "# Analyzing the Severity of Car Accidents"
   ]
  },
  {
   "cell_type": "markdown",
   "metadata": {},
   "source": [
    "## Business problem - Introduction"
   ]
  },
  {
   "cell_type": "markdown",
   "metadata": {},
   "source": [
    "### Part 1: Problem Description"
   ]
  },
  {
   "cell_type": "markdown",
   "metadata": {},
   "source": [
    "Traffic accidents represent one of the leading causes of death worldwide and of economic expenditure. Despite the numerous measures and campaigns that are deployed every year to raise awareness of the seriousness of the problem, it still occurs quite frequently. The impact of road accidents on society and the economy is high, and human losses are compounded by large expenditures on health care, awareness campaigns, mobilization of specialized personnel, etc. The WHO sets the economic impact of road accidents in a developed country at 2 to 3% of GDP, a significant figure for any country. Collaboration to reduce these losses has become an important issue of general interest.\n",
    "\n",
    "* Defining the problem:\n",
    "\n",
    "  What are the factors that have a high impact on road accidents?\n",
    "\n",
    "  Is there a pattern to them?\n",
    "\n",
    "  Correlation?\n",
    "\n",
    "We will have to analyze the data to get a clearer picture and draw conclusions.\n",
    "\n",
    "Note that this work represents the final project of the IBM certification course, for which we have provided the data with which we will develop the project.\n",
    "\n",
    "These data have been collected and shared by the Seattle Police Department (Traffic Records) and are provided by Coursera for downloading through a link.\n",
    "\n",
    "It takes into account a period of time from 2004 to the present, recording information related to the severity of the traffic accident, location, type of collision, weather and road conditions, visibility, number of people involved, etc.\n",
    "\n",
    "The objective is to define the problem, to find the factors that can have a relevant weight in the quantity and seriousness of the accidents, so that any organism, company or enterprise interested in reducing these figures, can focus the resources in points where these conditions converge.\n",
    "\n",
    "In order to provide greater clarity, I will try to analyze the data, see if there are relationships or patterns, especially in high impact accidents, so that preventive measures can focus on these points as a first prevention strategy.\n",
    "\n"
   ]
  },
  {
   "cell_type": "markdown",
   "metadata": {},
   "source": [
    "## Part 2: Data We Need"
   ]
  },
  {
   "cell_type": "markdown",
   "metadata": {},
   "source": [
    "For an accurate prediction of the magnitude of damage caused by accidents, they require a large number of reports on traffic accidents with accurate data to train prediction models. The data set provided for this work allows the analysis of a record of 200,000 accidents in the state of Seattle, from 2004 to the date it is issued, in which 37 attributes or variables are recorded and the codification of the type of accident is allowed, grouped according to 84 codes. The information can be extracted from it:\n",
    "\n",
    "1. speed information\n",
    "2. information on road conditions and visibility\n",
    "3. type of collision\n",
    "4. affected persons, etc\n",
    "\n",
    "The data will be used so that we can determine which attributes are most common in traffic accidents in order to target prevention at these high-incidence points.\n",
    " "
   ]
  },
  {
   "cell_type": "markdown",
   "metadata": {},
   "source": [
    "* Data Source:\n",
    "\n",
    "  Data Source: \n",
    "  These data have been collected and shared by the Seattle Police Department (Traffic Records) and are provided by Coursera for downloading through a link.\n",
    "\n",
    "  Data Location: Coursera_Capstone/Data assets\n",
    "\n",
    "  Data set name: Data-Collisions (1)_shaped.csv"
   ]
  },
  {
   "cell_type": "markdown",
   "metadata": {},
   "source": [
    "## Methodology:\n",
    "* Objective: The objective of this project is to predict the severity of a traffic accident based on the other characteristics contained in the report.\n",
    "\n",
    "* Packages and libraries: We will use libraries and packages for both data manipulation and data visualization. PANDA, NUMPY, SCIPY, Matplotlib, Seaborn\n",
    "\n",
    "  A data analysis will be performed in order to determine what type of methodology and learning of the machine will be the most appropriate, in addition to obtaining a first contact with the data that we find more relevant to use in this project."
   ]
  },
  {
   "cell_type": "markdown",
   "metadata": {},
   "source": [
    "## Data Analysis:\n",
    "### PART-1 : Getting the records of  accidents in the state of seattle\n",
    "  For analyzing the car accidents severity we need data regargding the accidents.We will be getting this records of accidents in the state of seattle using the csv file given for us in week 1 which is \"Data -Collisions.csv\".and we process the table."
   ]
  },
  {
   "cell_type": "markdown",
   "metadata": {},
   "source": [
    "### PART-2 : Choosing the columns 'SEVERITYCODE' , 'SPEEDING' , 'ROADCOND' data to work with\n",
    "For analyzing the car accident severity i choosed the columns 'SEVERITYCODE' , 'SPEEDING' , 'ROADCOND' data from the dataframe for working.And i processed data in this format\n",
    "* Replaced 'nan' values in both 'SPEEDING' & 'ROADCOND' with 'N' & 'Unknown' respectively.\n",
    "* I assigned new values to the column 'ROADCOND' as 'Dangerous' or 'Normal'.\n",
    "* I casted the columns 'SPEEDING' & 'ROADCOND' as type string datatype.\n",
    "* I replaced the values of columns 'SPEEDING' with 0 and 1.\n",
    "* I had done the same thing with the column 'ROADCOND' i.e, replacing the values.\n",
    "* Now i took these two columns 'SPEEDING' &'ROADCOND' from the dataframe to \"test_condition\".\n",
    "* I took a dataframe \"speed_analysis\" to which i passed by grouping the columns in dataframe 'SPEEDING' & 'SEVERITYCODE',And printed the dataframe.\n",
    "\n",
    "\n",
    "  such that the dataset will be used for machine learning algorithm analysis."
   ]
  },
  {
   "cell_type": "markdown",
   "metadata": {},
   "source": [
    "### PART-3 : Applying Machine Learning Techniques\n",
    "As the dataset is fully ready to be used for Machine learning (and statistical analysis) purposes.I trained the model with the dataset and i obtained f1-score and accuracy of the 3 models i.e, Tree model, Logistic Regression and KNN methodology(by choosing k value 4)."
   ]
  },
  {
   "cell_type": "markdown",
   "metadata": {},
   "source": [
    "## Decision Making and Reporting Results:\n",
    " 1. I Obtained the f1-score and accuracy of the 3 models mentioned above.\n",
    " 2. I compared the results using \"LR\".\n",
    "\n",
    "### RESULTS :\n",
    "| | Method of Analisys | F1-score | Accuracy |\n",
    "|:-:| :---------------------: |:--------:| :-------:|\n",
    "| 0 | KNN | 0.591378 | 0.69675 |\n",
    "| 1 | Decision Tree | 0.576051 | 0.699679|\n",
    "| 2 | LogisticRegression | 0.576051 | 0.699679|\n",
    "\n",
    "\n",
    "--------------\n",
    "\n",
    "| | Intercept | SPEEDING | ROADCOND |\n",
    "| :-: | :--------:| :--------:| :--------:|\n",
    " | 0 | -0.853729 | 0.067702 | -0.068295 |\n",
    "  \n",
    "---------------\n",
    "   Looking at the results obtained in the comparison, it is understood that speed and road conditions influence the severity of traffic accidents.\n",
    "   \n",
    "   According to the results of this method, the two attributes of the table have a determining influence on the increase of accidents, however more factors must be taken into account."
   ]
  },
  {
   "cell_type": "markdown",
   "metadata": {},
   "source": [
    "## Conclusion and recommendations :\n",
    "Knowing that speed and road conditions are factors that influence traffic accidents and their severity, recommendations for reducing accidents could include\n",
    "\n",
    "* Limiting speed in areas where road conditions are worse\n",
    "\n",
    "* Surveillance and radar cameras -Maintain traffic control routes on these roads\n",
    "\n",
    "* Enable emergency exit areas and rescue stations\n",
    "\n",
    "* Improve the maintenance of these streets, signaling and lighting"
   ]
  },
  {
   "cell_type": "markdown",
   "metadata": {},
   "source": [
    "# THANK YOU!"
   ]
  }
 ],
 "metadata": {
  "kernelspec": {
   "display_name": "Python 3",
   "language": "python",
   "name": "python3"
  },
  "language_info": {
   "codemirror_mode": {
    "name": "ipython",
    "version": 3
   },
   "file_extension": ".py",
   "mimetype": "text/x-python",
   "name": "python",
   "nbconvert_exporter": "python",
   "pygments_lexer": "ipython3",
   "version": "3.8.3"
  }
 },
 "nbformat": 4,
 "nbformat_minor": 4
}
